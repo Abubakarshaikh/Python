{
 "cells": [
  {
   "cell_type": "markdown",
   "metadata": {},
   "source": [
    "# 01 . Swap cases of a given string"
   ]
  },
  {
   "cell_type": "code",
   "execution_count": 1,
   "metadata": {},
   "outputs": [
    {
     "name": "stdout",
     "output_type": "stream",
     "text": [
      " pYTHON eXERCISES\n",
      " jAVA\n",
      " nUMpY\n"
     ]
    }
   ],
   "source": [
    "def swap_case_string(str1):\n",
    "    result_str = \" \"\n",
    "    for item in str1:\n",
    "        if item.isupper():\n",
    "            result_str += item.lower()\n",
    "        else:\n",
    "            result_str += item.upper()\n",
    "    return result_str\n",
    "print(swap_case_string(\"Python Exercises\"))\n",
    "print(swap_case_string(\"Java\"))\n",
    "print(swap_case_string(\"NumPy\"))"
   ]
  },
  {
   "cell_type": "code",
   "execution_count": null,
   "metadata": {},
   "outputs": [],
   "source": []
  }
 ],
 "metadata": {
  "kernelspec": {
   "display_name": "Python 3",
   "language": "python",
   "name": "python3"
  },
  "language_info": {
   "codemirror_mode": {
    "name": "ipython",
    "version": 3
   },
   "file_extension": ".py",
   "mimetype": "text/x-python",
   "name": "python",
   "nbconvert_exporter": "python",
   "pygments_lexer": "ipython3",
   "version": "3.7.6"
  }
 },
 "nbformat": 4,
 "nbformat_minor": 4
}
